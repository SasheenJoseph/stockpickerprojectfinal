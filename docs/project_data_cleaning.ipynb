{
 "cells": [
  {
   "cell_type": "markdown",
   "metadata": {},
   "source": [
    "### **Introduction**\n",
    "Our project, *Best Stock Picker*, is focused on analyzing the performance of the 10 most traded stocks from 2019 to 2024 to identify trends, patterns, and correlations that can guide investment decisions. Stocks are a cornerstone of personal finance, yet many people find it challenging to navigate the complexities of the stock market. By leveraging historical data and visualizing key metrics, this project seeks to make stock performance accessible and actionable for investors.\n",
    "\n",
    "The project aims to:\n",
    "1. Analyze stock price trends over time to identify growth patterns and periods of high volatility.\n",
    "2. Compare key metrics, such as average trading volume, price fluctuations, and overall returns, across companies.\n",
    "3. Create **static and interactive visualizations** to explore stock performance dynamically.\n",
    "4. Develop user scenarios to assess potential investment strategies for short-term and long-term investors.\n",
    "\n",
    "For static visualizations, we used **Altair** and **Matplotlib** to generate insightful line charts, bar charts, and heatmaps that highlight key trends and comparisons. For interactive visualizations, we employed **D3.js** for dynamic line charts and **Plotly** for customizable scatter plots. These tools empower users to explore data interactively, tailoring insights to their specific needs and preferences. Together, these visualizations present complex financial data in a user-friendly and visually compelling format, helping both novice and experienced investors make informed decisions."
   ]
  },
  {
   "cell_type": "markdown",
   "metadata": {},
   "source": [
    "### **Data Description**\n",
    "\"The dataset for this project comprises historical stock data for the 10 most traded stocks from 2019 to 2024. The data was sourced from Yahoo Finance, a trusted platform for financial information. Each stock file includes daily data with the following attributes:\n",
    "- **Date**: The trading date.\n",
    "- **Open**: The opening price of the stock on the given day.\n",
    "- **High**: The highest price recorded during the trading day.\n",
    "- **Low**: The lowest price recorded during the trading day.\n",
    "- **Close**: The closing price of the stock at the end of the trading day.\n",
    "- **Adj Close**: The adjusted closing price, accounting for corporate actions like dividends and splits.\n",
    "- **Volume**: The number of shares traded during the day.\n",
    "\n",
    "The dataset contains approximately 12,500 records, with 1,250 rows per stock. This volume of data ensures robust analysis and visualization opportunities. To enhance the analysis, key metrics such as mean trading volume and average price volatility were calculated for each company. The dataset was preprocessed to remove anomalies and ensure consistency, enabling meaningful comparisons across companies."
   ]
  },
  {
   "cell_type": "markdown",
   "metadata": {},
   "source": [
    "### **Summary of Findings**\n",
    "\"Our analysis of the 10 most traded stocks from 2019 to 2024 yielded several insights into stock performance and investment strategies:\n",
    "1. **Stock Price Trends**:\n",
    "   - The line chart visualization revealed that certain stocks, such as [Example Stock], demonstrated steady growth, making them suitable for long-term investors.\n",
    "   - Conversely, stocks like [Example Stock] exhibited high volatility, appealing to short-term traders seeking quick gains.\n",
    "\n",
    "2. **Key Metrics Comparisons**:\n",
    "   - The scatter plot analysis highlighted a strong correlation between high trading volume and price stability for certain stocks, indicating consistent market interest.\n",
    "   - Outliers, such as [Example Stock], showed unusually high volatility despite lower trading volumes, suggesting speculative activity.\n",
    "\n",
    "3. **Investment Scenarios**:\n",
    "   - Stocks with stable trends and consistent trading volumes, such as [Example Stock], may be ideal for risk-averse investors focusing on long-term growth.\n",
    "   - High-volatility stocks with fluctuating prices, such as [Example Stock], offer opportunities for risk-tolerant investors seeking short-term gains.\n",
    "\n",
    "The interactive visualizations enabled users to explore these findings dynamically, empowering them to tailor their insights based on specific metrics and time periods. Future work could include incorporating additional external factors, such as market events or macroeconomic indicators, to enhance the depth of the analysis."
   ]
  },
  {
   "cell_type": "code",
   "execution_count": 2,
   "metadata": {},
   "outputs": [],
   "source": [
    "import pandas as pd\n",
    "import glob\n",
    "\n",
    "# Load all CSVs into one DataFrame\n",
    "files = glob.glob(\"project_csv/*.csv\")\n",
    "dataframes = []\n",
    "for file in files:\n",
    "    company_name = file.split('/')[-1].split('.')[0]  # Extract company name from file name\n",
    "    df = pd.read_csv(file)\n",
    "    df['Company'] = company_name  # Add a column for the company name\n",
    "    dataframes.append(df)\n",
    "\n",
    "# Combine all data into one DataFrame\n",
    "merged_data = pd.concat(dataframes, ignore_index=True)\n",
    "\n",
    "# Convert Date column to datetime\n",
    "merged_data['Date'] = pd.to_datetime(merged_data['Date'])\n",
    "\n",
    "# Aggregate data for scatter plot, keeping Date for filtering\n",
    "aggregated_data = merged_data.groupby(['Company', 'Date']).agg(\n",
    "    high_mean=('High', 'mean'),\n",
    "    low_mean=('Low', 'mean'),\n",
    "    adj_close_mean=('Adj Close', 'mean'),\n",
    "    volume_mean=('Volume', 'mean')\n",
    ").reset_index()\n",
    "\n",
    "# Save the updated dataset with Date for filtering\n",
    "aggregated_data.to_csv('scatter_plot_data.csv', index=False)\n"
   ]
  },
  {
   "cell_type": "markdown",
   "metadata": {},
   "source": [
    "My section of the work:\n",
    "\n",
    "Content Writing:\n",
    "- Write the Introduction (topic and tasks).\n",
    "- Write the Data Description (size, source, and attributes).\n",
    "- Draft the Summary of Findings section.\n",
    "\n",
    "Interactive Visualizations:\n",
    "- Create two interactive visualizations:\n",
    "    - Line chart with user-selectable time ranges using D3.js.\n",
    "    - Scatter plot with selectable axes using Plotly.\n",
    "\n",
    "Webpage Integration:\n",
    "- Embed interactive visualizations into the webpage.\n",
    "- Ensure all content and visualizations are integrated smoothly.\n",
    "- Review and refine the final webpage for consistency and accuracy.\n"
   ]
  }
 ],
 "metadata": {
  "kernelspec": {
   "display_name": "myenv",
   "language": "python",
   "name": "python3"
  },
  "language_info": {
   "codemirror_mode": {
    "name": "ipython",
    "version": 3
   },
   "file_extension": ".py",
   "mimetype": "text/x-python",
   "name": "python",
   "nbconvert_exporter": "python",
   "pygments_lexer": "ipython3",
   "version": "3.10.15"
  }
 },
 "nbformat": 4,
 "nbformat_minor": 2
}
